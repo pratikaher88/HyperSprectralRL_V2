{
 "cells": [
  {
   "cell_type": "markdown",
   "id": "a000c3f9",
   "metadata": {},
   "source": [
    "# Setup"
   ]
  },
  {
   "cell_type": "code",
   "execution_count": 16,
   "metadata": {},
   "outputs": [],
   "source": [
    "# here: implement variance ranking and \n",
    "# implement variance ranking in supervised baselines as well -> new notebook for just this?"
   ]
  },
  {
   "cell_type": "code",
   "execution_count": 17,
   "id": "7b1e8c7c",
   "metadata": {},
   "outputs": [],
   "source": [
    "import numpy as np\n",
    "import matplotlib.pyplot as plt\n",
    "from matplotlib import image\n",
    "import seaborn as sns\n",
    "import glob\n",
    "from scipy.stats.stats import pearsonr\n",
    "import pandas as pd\n",
    "\n",
    "from sklearn.model_selection import train_test_split\n",
    "from sklearn.metrics import normalized_mutual_info_score\n",
    "from sklearn.linear_model import LogisticRegression, LinearRegression\n",
    "from sklearn.neural_network import MLPClassifier, MLPRegressor\n",
    "from sklearn.metrics import mean_absolute_error, accuracy_score, f1_score, balanced_accuracy_score, mean_squared_error, r2_score\n",
    "\n",
    "def warn(*args, **kwargs):\n",
    "    pass\n",
    "import warnings\n",
    "warnings.warn = warn\n",
    "\n",
    "np.random.seed(42)\n"
   ]
  },
  {
   "cell_type": "code",
   "execution_count": 18,
   "id": "74e0d4e6",
   "metadata": {},
   "outputs": [],
   "source": [
    "# which datasets to read and write\n",
    "\n",
    "do_indian_pines = True \n",
    "do_salient_objects = False\n",
    "do_plastic_flakes = False\n",
    "do_soil_moisture = True\n",
    "do_foods = True\n"
   ]
  },
  {
   "cell_type": "code",
   "execution_count": 19,
   "metadata": {},
   "outputs": [],
   "source": [
    "num_b_kept = 30"
   ]
  },
  {
   "cell_type": "markdown",
   "id": "9110b99a",
   "metadata": {},
   "source": [
    "## Define functions"
   ]
  },
  {
   "cell_type": "code",
   "execution_count": 20,
   "id": "cacd65d8",
   "metadata": {},
   "outputs": [],
   "source": [
    "# reward functions\n",
    "\n",
    "def calculate_correlations(data, num_bands_originally, num_bands_kept):\n",
    "    \n",
    "    #selected_bands = np.random.randint(0,num_bands_originally,num_bands_kept)\n",
    "    selected_bands = np.arange(0, data.shape[-1])\n",
    "    #print(selected_bands)    \n",
    "    corr_sum = 0\n",
    "    for i in selected_bands:\n",
    "        for j in selected_bands:\n",
    "            if i != j:\n",
    "                corr_sum += np.abs(pearsonr(data[:, i], \n",
    "                                   data[:, j])[0])\n",
    "            \n",
    "    return corr_sum/(len(selected_bands)**2)\n",
    "\n",
    "\n",
    "def calculate_mutual_infos(data, num_bands_originally, num_bands_kept):\n",
    "    \n",
    "    #selected_bands = np.random.randint(0,num_bands_originally,num_bands_kept)\n",
    "    selected_bands = np.arange(0, data.shape[-1])\n",
    "    #print(selected_bands)\n",
    "    normalized_mutual_info_score_sum = 0\n",
    "    for i in selected_bands:\n",
    "        for j in selected_bands:\n",
    "            if i != j:\n",
    "                normalized_mutual_info_score_sum += normalized_mutual_info_score(data[:, i],\n",
    "                                                                             data[:, j])\n",
    "            \n",
    "    return normalized_mutual_info_score_sum/(len(selected_bands)**2)\n"
   ]
  },
  {
   "cell_type": "code",
   "execution_count": 21,
   "id": "2c8d6b7e",
   "metadata": {},
   "outputs": [],
   "source": [
    "## dataset loading\n",
    "\n",
    "def load_datasets(Dataset):\n",
    "    \n",
    "    if Dataset == 'SM':\n",
    "        hyper_path = '../data/soil_moisture/hyperspectral_imagery/*npy'\n",
    "        hyper = np.load(glob.glob(hyper_path)[0])\n",
    "        gt_path = '../data/soil_moisture/gt_labels/*npy'\n",
    "        gt = np.load(glob.glob(gt_path)[0])\n",
    "        return hyper, gt\n",
    "    \n",
    "    if Dataset == 'IN':\n",
    "        hyper_path = '../data/indian_pines/hyperspectral_imagery/*npy'\n",
    "        hyper = np.load(glob.glob(hyper_path)[0])\n",
    "        gt_path = '../data/indian_pines/gt_labels/*npy'\n",
    "        gt = np.load(glob.glob(gt_path)[0])\n",
    "        return hyper, gt\n",
    "    \n",
    "    if Dataset == 'SO':\n",
    "        hyper_path = '../data/salient_objects/hyperspectral_imagery/salient-object-data.npy'\n",
    "        gt_path = '../data/salient_objects/gt_labels/*npy'\n",
    "        hypers=[]\n",
    "        gt_labels=[]\n",
    "        for i in range(len(glob.glob(hyper_path))):\n",
    "            hyper = np.load(glob.glob(hyper_path)[i])\n",
    "            hypers.append(hyper)\n",
    "            gt = np.load(glob.glob(gt_path)[i])\n",
    "            gt_labels.append(gt)\n",
    "        return hypers, gt_labels \n",
    "\n",
    "                          \n",
    "    if Dataset == 'PF':\n",
    "        hyper_path = '../data/plastic_flakes/hyperspectral_imagery/plastic-flake-data.npy'\n",
    "        gt_path = '../data/plastic_flakes/gt_labels/*npy'\n",
    "        hypers=[]\n",
    "        gt_labels=[]\n",
    "        for i in range(len(glob.glob(hyper_path))):\n",
    "            hyper = np.load(glob.glob(hyper_path)[i])\n",
    "            hypers.append(hyper)\n",
    "            gt = np.load(glob.glob(gt_path)[i])\n",
    "            gt_labels.append(gt)\n",
    "        return hypers, gt_labels \n",
    "    if Dataset == 'Foods':\n",
    "        hyper_path = '../data/foods/hyperspectral_imagery/*npy'\n",
    "        gt_path = '../data/foods/gt_labels/*npy'\n",
    "        hypers=[]\n",
    "        gt_labels=[]\n",
    "        for i in range(len(glob.glob(hyper_path))):\n",
    "            hyper = np.load(glob.glob(hyper_path)[i])\n",
    "            hypers.append(hyper)\n",
    "            gt = np.load(glob.glob(gt_path)[i])\n",
    "            gt_labels.append(gt)\n",
    "        return hypers, gt_labels"
   ]
  },
  {
   "cell_type": "markdown",
   "id": "978c3cd0",
   "metadata": {},
   "source": [
    "## Plastic flakes dataset"
   ]
  },
  {
   "cell_type": "code",
   "execution_count": 22,
   "id": "06f64bcf",
   "metadata": {},
   "outputs": [],
   "source": [
    "# stacks all images vertically\n",
    "\n",
    "# load data\n",
    "\n",
    "if do_plastic_flakes:\n",
    "    \n",
    "    hyper, gt = load_datasets(\n",
    "        'PF')\n",
    "    \n",
    "    hyper, gt = np.array(hyper), np.array(gt)\n",
    "    \n",
    "    hyper_multiple = np.squeeze(hyper)\n",
    "    \n",
    "    print('\\nDataset info...')\n",
    "    print('The shape of the original imagery:', hyper_multiple.shape)\n",
    "    print('The shape of the original labels:', gt.shape)\n",
    "     \n"
   ]
  },
  {
   "cell_type": "code",
   "execution_count": 23,
   "id": "7bf8dd6e",
   "metadata": {},
   "outputs": [],
   "source": [
    "# rewards\n",
    "    \n",
    "if do_plastic_flakes:\n",
    "        \n",
    "    # randomly sample hyper_multiple for 5% of the pixels\n",
    "    correlations = []\n",
    "    #for i in range(num_runs):\n",
    "    correlations.append(calculate_correlations(hyper_multiple, num_bands_originally=hyper_multiple.shape[-1], num_bands_kept=num_b_kept))\n",
    "    print(correlations)\n",
    "    print(f'\\nCorrelation reward', np.mean(correlations))\n",
    "    \n",
    "    mis = []\n",
    "    #for i in range(num_runs):\n",
    "    mis.append(calculate_mutual_infos(hyper_multiple, num_bands_originally=hyper_multiple.shape[-1], num_bands_kept=num_b_kept))\n",
    "    print(mis)\n",
    "    print(f'Normalized mutual information reward', np.mean(mis))\n",
    "    \n"
   ]
  },
  {
   "cell_type": "markdown",
   "id": "72b213af",
   "metadata": {},
   "source": [
    "## Salient objects dataset"
   ]
  },
  {
   "cell_type": "code",
   "execution_count": 24,
   "id": "a5364f7b",
   "metadata": {},
   "outputs": [],
   "source": [
    "# stacks all images vertically\n",
    "\n",
    "# load data\n",
    "\n",
    "if do_salient_objects:\n",
    "    \n",
    "    hyper, gt = load_datasets(\n",
    "        'SO')\n",
    "    \n",
    "    hyper, gt = np.array(hyper), np.array(gt)\n",
    "    \n",
    "    hyper_multiple = np.sqeeze(hyper)\n",
    "    \n",
    "    print('\\nDataset info...')\n",
    "    print('The shape of the original imagery:', hyper_multiple.shape)\n",
    "    print('The shape of the original labels:', gt.shape)\n",
    "    \n"
   ]
  },
  {
   "cell_type": "code",
   "execution_count": 25,
   "id": "20d99755",
   "metadata": {},
   "outputs": [],
   "source": [
    "# rewards\n",
    "    \n",
    "if do_salient_objects:\n",
    "        \n",
    "    correlations = []\n",
    "    #for i in range(num_runs):\n",
    "    correlations.append(calculate_correlations(hyper_multiple, num_bands_originally=hyper_multiple.shape[-1], num_bands_kept=num_b_kept))\n",
    "    print(f'\\nCorrelation reward', np.mean(correlations))\n",
    "    \n",
    "    mis = []\n",
    "    #for i in range(num_runs):\n",
    "    mis.append(calculate_mutual_infos(hyper_multiple, num_bands_originally=hyper_multiple.shape[-1], num_bands_kept=num_b_kept))\n",
    "    print(f'Normalized mutual information reward', np.mean(mis))\n",
    "    \n",
    "    "
   ]
  },
  {
   "cell_type": "markdown",
   "metadata": {},
   "source": [
    "## Indian Pines dataset"
   ]
  },
  {
   "cell_type": "code",
   "execution_count": 26,
   "metadata": {},
   "outputs": [
    {
     "name": "stdout",
     "output_type": "stream",
     "text": [
      "\n",
      "Dataset info...\n",
      "The shape of the original imagery: (10249, 200)\n",
      "The shape of the original labels: (10249,)\n"
     ]
    }
   ],
   "source": [
    "# load data\n",
    "\n",
    "if do_indian_pines:\n",
    "    \n",
    "    hyper, gt = load_datasets(\n",
    "        'IN')\n",
    "    \n",
    "    print('\\nDataset info...')\n",
    "    print('The shape of the original imagery:', hyper.shape)\n",
    "    print('The shape of the original labels:', gt.shape)\n",
    "    "
   ]
  },
  {
   "cell_type": "code",
   "execution_count": 27,
   "metadata": {},
   "outputs": [
    {
     "name": "stdout",
     "output_type": "stream",
     "text": [
      "\n",
      "Correlation reward 0.5566290338374974\n",
      "Normalized mutual information reward 0.26176094587599075\n"
     ]
    }
   ],
   "source": [
    "# rewards\n",
    "    \n",
    "if do_indian_pines:\n",
    "    num_runs = 50\n",
    "    \n",
    "    correlations = []\n",
    "    #for i in range(num_runs):\n",
    "    correlations.append(calculate_correlations(hyper, num_bands_originally=hyper.shape[-1], num_bands_kept=num_b_kept))\n",
    "    print(f'\\nCorrelation reward', np.mean(correlations))\n",
    "    \n",
    "    mis = []\n",
    "    #for i in range(num_runs):\n",
    "    mis.append(calculate_mutual_infos(hyper, num_bands_originally=hyper.shape[-1], num_bands_kept=num_b_kept))\n",
    "    print(f'Normalized mutual information reward', np.mean(mis))\n",
    "    "
   ]
  },
  {
   "cell_type": "markdown",
   "metadata": {},
   "source": [
    "## Soil moisture dataset"
   ]
  },
  {
   "cell_type": "code",
   "execution_count": 28,
   "id": "0ca19147",
   "metadata": {},
   "outputs": [
    {
     "name": "stdout",
     "output_type": "stream",
     "text": [
      "\n",
      "Dataset info...\n",
      "The shape of the original imagery: (679, 125)\n",
      "The shape of the original labels: (679,)\n"
     ]
    }
   ],
   "source": [
    "# load data\n",
    "\n",
    "if do_soil_moisture:\n",
    "    \n",
    "    hyper, gt = load_datasets(\n",
    "        'SM')\n",
    "    \n",
    "    print('\\nDataset info...')\n",
    "    print('The shape of the original imagery:', hyper.shape)\n",
    "    print('The shape of the original labels:', gt.shape)\n",
    "    "
   ]
  },
  {
   "cell_type": "code",
   "execution_count": 29,
   "metadata": {},
   "outputs": [
    {
     "name": "stdout",
     "output_type": "stream",
     "text": [
      "\n",
      "Correlation reward 0.9784309489204578\n",
      "Normalized mutual information reward 0.6573439144709141\n"
     ]
    }
   ],
   "source": [
    "# rewards\n",
    "    \n",
    "if do_soil_moisture:\n",
    "    num_runs = 50\n",
    "    \n",
    "    correlations = []\n",
    "    #for i in range(num_runs):\n",
    "    correlations.append(calculate_correlations(hyper, num_bands_originally=hyper.shape[-1], num_bands_kept=num_b_kept))\n",
    "    print(f'\\nCorrelation reward', np.mean(correlations))\n",
    "    \n",
    "    mis = []\n",
    "    #for i in range(num_runs):\n",
    "    mis.append(calculate_mutual_infos(hyper, num_bands_originally=hyper.shape[-1], num_bands_kept=num_b_kept))\n",
    "    print(f'Normalized mutual information reward', np.mean(mis))\n"
   ]
  },
  {
   "cell_type": "markdown",
   "metadata": {},
   "source": [
    "## Foods dataset\n"
   ]
  },
  {
   "cell_type": "code",
   "execution_count": 30,
   "metadata": {},
   "outputs": [
    {
     "name": "stdout",
     "output_type": "stream",
     "text": [
      "\n",
      "Dataset info...\n",
      "The shape of the original imagery: (2400, 96)\n",
      "The shape of the original labels: (2400,)\n",
      "\n",
      "Correlation reward 0.5940902419265641\n",
      "Normalized mutual information reward 0.6066130724567937\n"
     ]
    }
   ],
   "source": [
    "# load data\n",
    "\n",
    "if do_foods:\n",
    "    \n",
    "    hyper, gt = load_datasets(\n",
    "        'Foods')\n",
    "\n",
    "    hyper, gt = hyper[0], gt[0]\n",
    "    \n",
    "    print('\\nDataset info...')\n",
    "    print('The shape of the original imagery:', hyper.shape)\n",
    "    print('The shape of the original labels:', gt.shape)\n",
    "    \n",
    "# rewards\n",
    "    \n",
    "if do_indian_pines:\n",
    "    num_runs = 50\n",
    "    \n",
    "    correlations = []\n",
    "    #for i in range(num_runs):\n",
    "    correlations.append(calculate_correlations(hyper, num_bands_originally=hyper.shape[-1], num_bands_kept=num_b_kept))\n",
    "    print(f'\\nCorrelation reward', np.mean(correlations))\n",
    "    \n",
    "    mis = []\n",
    "    #for i in range(num_runs):\n",
    "    mis.append(calculate_mutual_infos(hyper, num_bands_originally=hyper.shape[-1], num_bands_kept=num_b_kept))\n",
    "    print(f'Normalized mutual information reward', np.mean(mis))\n",
    "    \n"
   ]
  },
  {
   "cell_type": "code",
   "execution_count": null,
   "metadata": {},
   "outputs": [],
   "source": []
  }
 ],
 "metadata": {
  "interpreter": {
   "hash": "301faebbd5cea7fd4466786a19f1bea9d8baf657aaca95ef39840c46b8697603"
  },
  "kernelspec": {
   "display_name": "Python 3.8.8 64-bit ('base': conda)",
   "name": "python3"
  },
  "language_info": {
   "codemirror_mode": {
    "name": "ipython",
    "version": 3
   },
   "file_extension": ".py",
   "mimetype": "text/x-python",
   "name": "python",
   "nbconvert_exporter": "python",
   "pygments_lexer": "ipython3",
   "version": "3.8.8"
  }
 },
 "nbformat": 4,
 "nbformat_minor": 5
}
