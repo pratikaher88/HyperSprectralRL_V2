{
 "cells": [
  {
   "cell_type": "code",
   "execution_count": 1,
   "id": "8dff6079",
   "metadata": {},
   "outputs": [],
   "source": [
    "import numpy as np\n",
    "import os"
   ]
  },
  {
   "cell_type": "code",
   "execution_count": 2,
   "id": "66ae0914",
   "metadata": {},
   "outputs": [],
   "source": [
    "def open_numpy(file_path):\n",
    "    return np.load(file_path)"
   ]
  },
  {
   "cell_type": "code",
   "execution_count": 3,
   "metadata": {},
   "outputs": [],
   "source": [
    "f_base = '/Users/danielfurman/Desktop/Berkeley/Semester-3/Deep RL/final_project/HyperSpectralRL/'"
   ]
  },
  {
   "cell_type": "code",
   "execution_count": 4,
   "id": "adb72b3f",
   "metadata": {},
   "outputs": [
    {
     "data": {
      "text/plain": [
       "(10249, 200)"
      ]
     },
     "execution_count": 4,
     "metadata": {},
     "output_type": "execute_result"
    }
   ],
   "source": [
    "file_path = f_base + 'data/indian_pines/hyperspectral_imagery/indian_pines_corrected.npy'\n",
    "\n",
    "open_numpy(file_path).shape"
   ]
  },
  {
   "cell_type": "code",
   "execution_count": 8,
   "metadata": {},
   "outputs": [
    {
     "data": {
      "text/plain": [
       "(2400, 96)"
      ]
     },
     "execution_count": 8,
     "metadata": {},
     "output_type": "execute_result"
    }
   ],
   "source": [
    "file_path = f_base + 'data/foods/hyperspectral_imagery/foods_hyper.npy'\n",
    "\n",
    "open_numpy(file_path).shape"
   ]
  },
  {
   "cell_type": "code",
   "execution_count": 5,
   "id": "54fe0b49",
   "metadata": {},
   "outputs": [
    {
     "data": {
      "text/plain": [
       "(786432, 81)"
      ]
     },
     "execution_count": 5,
     "metadata": {},
     "output_type": "execute_result"
    }
   ],
   "source": [
    "file_path = f_base + 'data/salient_objects/hyperspectral_imagery/0002.npy'\n",
    "open_numpy(file_path).shape"
   ]
  },
  {
   "cell_type": "code",
   "execution_count": 6,
   "id": "2e195b29",
   "metadata": {},
   "outputs": [
    {
     "name": "stdout",
     "output_type": "stream",
     "text": [
      "/r Loaded 0 out of 60/r Loaded 1 out of 60/r Loaded 2 out of 60/r Loaded 3 out of 60/r Loaded 4 out of 60/r Loaded 5 out of 60/r Loaded 6 out of 60/r Loaded 7 out of 60/r Loaded 8 out of 60/r Loaded 9 out of 60/r Loaded 10 out of 60/r Loaded 11 out of 60/r Loaded 12 out of 60/r Loaded 13 out of 60/r Loaded 14 out of 60/r Loaded 15 out of 60/r Loaded 16 out of 60/r Loaded 17 out of 60/r Loaded 18 out of 60/r Loaded 19 out of 60/r Loaded 20 out of 60/r Loaded 21 out of 60/r Loaded 22 out of 60/r Loaded 23 out of 60/r Loaded 24 out of 60/r Loaded 25 out of 60/r Loaded 26 out of 60/r Loaded 27 out of 60/r Loaded 28 out of 60/r Loaded 29 out of 60/r Loaded 30 out of 60/r Loaded 31 out of 60/r Loaded 32 out of 60/r Loaded 33 out of 60/r Loaded 34 out of 60/r Loaded 35 out of 60/r Loaded 36 out of 60/r Loaded 37 out of 60/r Loaded 38 out of 60/r Loaded 39 out of 60/r Loaded 40 out of 60/r Loaded 41 out of 60/r Loaded 42 out of 60/r Loaded 43 out of 60/r Loaded 44 out of 60/r Loaded 45 out of 60/r Loaded 46 out of 60/r Loaded 47 out of 60/r Loaded 48 out of 60/r Loaded 49 out of 60/r Loaded 50 out of 60/r Loaded 51 out of 60/r Loaded 52 out of 60/r Loaded 53 out of 60/r Loaded 54 out of 60/r Loaded 55 out of 60/r Loaded 56 out of 60/r Loaded 57 out of 60/r Loaded 58 out of 60/r Loaded 59 out of 60"
     ]
    }
   ],
   "source": [
    "salient_objects_folder = f_base + '/data/salient_objects/hyperspectral_imagery'\n",
    "\n",
    "data = None\n",
    "for _, _, files in os.walk(salient_objects_folder):\n",
    "    for idx, file in enumerate(files):\n",
    "        print(f'/r Loaded {idx} out of {len(files)}', end='')\n",
    "        file_data = np.load(os.path.join(salient_objects_folder, file))\n",
    "        if isinstance(data, type(None)):\n",
    "            data = file_data\n",
    "        else:\n",
    "            data = np.vstack((data, file_data))\n",
    "    "
   ]
  },
  {
   "cell_type": "code",
   "execution_count": 7,
   "id": "bc943bc8",
   "metadata": {},
   "outputs": [
    {
     "data": {
      "text/plain": [
       "(47185920, 81)"
      ]
     },
     "execution_count": 7,
     "metadata": {},
     "output_type": "execute_result"
    }
   ],
   "source": [
    "data.shape"
   ]
  },
  {
   "cell_type": "code",
   "execution_count": null,
   "id": "56f19f8f",
   "metadata": {},
   "outputs": [],
   "source": []
  }
 ],
 "metadata": {
  "interpreter": {
   "hash": "301faebbd5cea7fd4466786a19f1bea9d8baf657aaca95ef39840c46b8697603"
  },
  "kernelspec": {
   "display_name": "Python 3.8.8 64-bit ('base': conda)",
   "name": "python3"
  },
  "language_info": {
   "codemirror_mode": {
    "name": "ipython",
    "version": 3
   },
   "file_extension": ".py",
   "mimetype": "text/x-python",
   "name": "python",
   "nbconvert_exporter": "python",
   "pygments_lexer": "ipython3",
   "version": "3.8.8"
  }
 },
 "nbformat": 4,
 "nbformat_minor": 5
}
